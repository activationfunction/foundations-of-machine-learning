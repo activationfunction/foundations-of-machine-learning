{
  "nbformat": 4,
  "nbformat_minor": 0,
  "metadata": {
    "kernelspec": {
      "display_name": "Python 3",
      "language": "python",
      "name": "python3"
    },
    "language_info": {
      "codemirror_mode": {
        "name": "ipython",
        "version": 3
      },
      "file_extension": ".py",
      "mimetype": "text/x-python",
      "name": "python",
      "nbconvert_exporter": "python",
      "pygments_lexer": "ipython3",
      "version": "3.8.5"
    },
    "colab": {
      "name": "numpy_deep_neural_network.ipynb",
      "provenance": [],
      "collapsed_sections": [],
      "toc_visible": true
    }
  },
  "cells": [
    {
      "cell_type": "markdown",
      "metadata": {
        "id": "f5vmOBmDrVss"
      },
      "source": [
        "# Neural Network in NumPy: No TensorFlow and no PyTorch\n",
        "---"
      ]
    },
    {
      "cell_type": "markdown",
      "metadata": {
        "id": "HNe6Sohryj4v"
      },
      "source": [
        "**Reference:** Implementation inspired by [Let’s code a Neural Network in plain NumPy](https://towardsdatascience.com/lets-code-a-neural-network-in-plain-numpy-ae7e74410795) by Piotr Skalski."
      ]
    },
    {
      "cell_type": "code",
      "metadata": {
        "id": "ItMyNOctrVss"
      },
      "source": [
        "import matplotlib.pyplot as plt\n",
        "import numpy as np"
      ],
      "execution_count": 1,
      "outputs": []
    },
    {
      "cell_type": "markdown",
      "metadata": {
        "id": "ukS1zGmtrVst"
      },
      "source": [
        "## Neural network architecture"
      ]
    },
    {
      "cell_type": "markdown",
      "metadata": {
        "id": "ls01bVTgrVst"
      },
      "source": [
        "![Neural Network](https://storage.googleapis.com/activation-function/images/jupyter/nn.png)\n",
        "\n",
        "<b>Figure 1.</b> Layers: {1 − 64 − ReLU − 64 − ReLU − 64 − 1 − sigmoid}. The diagram only shows 32-neuron hidden layers because the diagram with 64 neurons was too unwieldy."
      ]
    },
    {
      "cell_type": "markdown",
      "metadata": {
        "id": "VxLa2vqxrVst"
      },
      "source": [
        "## First things first"
      ]
    },
    {
      "cell_type": "markdown",
      "metadata": {
        "id": "h16XbjJ6rVst"
      },
      "source": [
        "Before we start programming, let's stop for a moment and prepare a basic roadmap. Our goal is to create a program capable of creating a densely connected neural network with the specified architecture (number and size of layers and appropriate activation function). An example of such a network is presented in Figure 1. Above all, we must be able to our network and make predictions using it.\n",
        "\n",
        "Diagram above shows what operations will have to be performed during the training of our neural network. It also shows how many parameters we will have to update and read at different stages of a single iteration. Building the right data structure and skillfully managing its state is the most difficult part of our task."
      ]
    },
    {
      "cell_type": "markdown",
      "metadata": {
        "id": "YUyiRIRMrVst"
      },
      "source": [
        "## Define neural network architecture"
      ]
    },
    {
      "cell_type": "markdown",
      "metadata": {
        "id": "SrkcfUQtrVst"
      },
      "source": [
        "Layers: {1 − 64 − ReLU − 64 − ReLU − 64 − 1 − sigmoid}\n",
        "\n",
        "Unlike in Keras where you only have to specify the input dim on the very first layer, this implementation requires that you specify it for each layer."
      ]
    },
    {
      "cell_type": "code",
      "metadata": {
        "id": "-2LF9azKrVst"
      },
      "source": [
        "neural_network = [\n",
        "    {\"input_dim\": 1, \"output_dim\": 64, \"activation\": \"relu\"},\n",
        "    {\"input_dim\": 64, \"output_dim\": 64, \"activation\": \"relu\"},\n",
        "    {\"input_dim\": 64, \"output_dim\": 1, \"activation\": \"sigmoid\"},\n",
        "]"
      ],
      "execution_count": 2,
      "outputs": []
    },
    {
      "cell_type": "markdown",
      "metadata": {
        "id": "9MmS0I98rVst"
      },
      "source": [
        "## Initiation of parameter values for each layer"
      ]
    },
    {
      "cell_type": "code",
      "metadata": {
        "id": "FdBaUaFBrVst"
      },
      "source": [
        "def init_layers(nn_architecture, seed = 99):\n",
        "    np.random.seed(seed)\n",
        "\n",
        "    number_of_layers = len(nn_architecture)\n",
        "    params_values = {}\n",
        "    \n",
        "    # For each neural network layer\n",
        "    for idx, layer in enumerate(nn_architecture):\n",
        "        # Number network layers from 1.\n",
        "        layer_idx = idx + 1\n",
        "        \n",
        "        # Extract the number of units in layers.\n",
        "        layer_input_size = layer[\"input_dim\"]\n",
        "        layer_output_size = layer[\"output_dim\"]\n",
        "        \n",
        "        # Initiate the values of the W matrix and vector b for subsequent\n",
        "        # layers. Initialize the weights using a Gaussian distribution.\n",
        "        params_values['W' + str(layer_idx)] = np.random.normal(0, 1, size=(layer_output_size, layer_input_size)) * (np.sqrt(np.divide(2,layer_input_size)))\n",
        "        params_values['b' + str(layer_idx)] = np.zeros((layer_output_size, 1))\n",
        "        \n",
        "    return params_values"
      ],
      "execution_count": 3,
      "outputs": []
    },
    {
      "cell_type": "markdown",
      "metadata": {
        "id": "TRujzFxnrVsu"
      },
      "source": [
        "## Activation functions"
      ]
    },
    {
      "cell_type": "markdown",
      "metadata": {
        "id": "76ECQL1orVsu"
      },
      "source": [
        "![ReLU](https://storage.googleapis.com/activation-function/images/jupyter/relu.jpg)\n",
        "![Sigmoid](https://storage.googleapis.com/activation-function/images/jupyter/sigmoid.png)\n",
        "\n",
        "<b>Figure 4.</b> Activation functions used in the algorithm."
      ]
    },
    {
      "cell_type": "code",
      "metadata": {
        "id": "K-jkjdyrrVsu"
      },
      "source": [
        "def relu(Z):\n",
        "    return np.maximum(0, Z)\n",
        "\n",
        "def relu_backward(dA, Z):\n",
        "    dZ = np.array(dA, copy = True)\n",
        "    dZ[Z <= 0] = 0;\n",
        "    return dZ;\n",
        "\n",
        "def sigmoid(Z):\n",
        "    return 1 / (1 + np.exp(-Z))\n",
        "\n",
        "def sigmoid_backward(dA, Z):\n",
        "    sig = sigmoid(Z)\n",
        "    return dA * sig * (1 - sig)"
      ],
      "execution_count": 4,
      "outputs": []
    },
    {
      "cell_type": "markdown",
      "metadata": {
        "id": "ffBkYAg3rVsu"
      },
      "source": [
        "## Single layer forward propagation step"
      ]
    },
    {
      "cell_type": "markdown",
      "metadata": {
        "id": "oY8FE9d1rVsu"
      },
      "source": [
        "For each layer in the neural network, take the weight matrix of that layer and dot it with the activation matrix of the previous layer then add the bias for that layer."
      ]
    },
    {
      "cell_type": "markdown",
      "metadata": {
        "id": "9GYvXws_rVsu"
      },
      "source": [
        "$$\\boldsymbol{Z}^{[l]} = \\boldsymbol{W}^{[l]} \\cdot \\boldsymbol{A}^{[l-1]} + \\boldsymbol{b}^{[l]}$$"
      ]
    },
    {
      "cell_type": "markdown",
      "metadata": {
        "id": "V40pASewiB7q"
      },
      "source": [
        "Now that that calculated value Z and pass it through an activation function."
      ]
    },
    {
      "cell_type": "markdown",
      "metadata": {
        "id": "DSAtvlXNrVsu"
      },
      "source": [
        "$$\\boldsymbol{A}^{[l]} = g^{[l]}(\\boldsymbol{Z}^{[l]})$$"
      ]
    },
    {
      "cell_type": "code",
      "metadata": {
        "id": "hG6PRNyDrVsu"
      },
      "source": [
        "def single_layer_forward_propagation(A_prev, W_curr, b_curr, activation=\"relu\"):\n",
        "    # Calculate the input value for the activation function.\n",
        "    Z_curr = np.dot(W_curr, A_prev) + b_curr\n",
        "    \n",
        "    # Activation function\n",
        "    if activation == \"relu\":\n",
        "        activation_func = relu\n",
        "    elif activation == \"sigmoid\":\n",
        "        activation_func = sigmoid\n",
        "    else:\n",
        "        raise Exception('Non-supported activation function')\n",
        "        \n",
        "    # Return the calculated activation A and the intermediate Z matrix.\n",
        "    return activation_func(Z_curr), Z_curr"
      ],
      "execution_count": 5,
      "outputs": []
    },
    {
      "cell_type": "markdown",
      "metadata": {
        "id": "AsUX1jykrVsu"
      },
      "source": [
        "## Full forward propagation"
      ]
    },
    {
      "cell_type": "code",
      "metadata": {
        "id": "SC4vg25FrVsu"
      },
      "source": [
        "def full_forward_propagation(X, params_values, nn_architecture):\n",
        "    # Create temporary memory to store the information needed for a backward step.\n",
        "    memory = {}\n",
        "    # X vector is the activation for layer 0.\n",
        "    A_curr = X\n",
        "    \n",
        "    # For each network layer\n",
        "    for idx, layer in enumerate(nn_architecture):\n",
        "        # Number network layers from 1.\n",
        "        layer_idx = idx + 1\n",
        "        # Transfer the activation from the previous iteration.\n",
        "        A_prev = A_curr\n",
        "        \n",
        "        # Extract the activation function for the current layer.\n",
        "        activ_function_curr = layer[\"activation\"]\n",
        "        # Extract W for the current layer.\n",
        "        W_curr = params_values[\"W\" + str(layer_idx)]\n",
        "        # Extract b for the current layer.\n",
        "        b_curr = params_values[\"b\" + str(layer_idx)]\n",
        "        # Calculate the activation for the current layer.\n",
        "        A_curr, Z_curr = single_layer_forward_propagation(A_prev, W_curr, b_curr, activ_function_curr)\n",
        "        \n",
        "        # Save calculated values in the memory cache.\n",
        "        memory[\"A\" + str(idx)] = A_prev\n",
        "        memory[\"Z\" + str(layer_idx)] = Z_curr\n",
        "       \n",
        "    # Return prediction vector and a dictionary containing intermediate values.\n",
        "    return A_curr, memory"
      ],
      "execution_count": 6,
      "outputs": []
    },
    {
      "cell_type": "markdown",
      "metadata": {
        "id": "v8Q3ANKUrVsu"
      },
      "source": [
        "## Calculate cost using MSE"
      ]
    },
    {
      "cell_type": "markdown",
      "metadata": {
        "id": "SQ5bEn10rVsu"
      },
      "source": [
        "Mean Squared Error\n",
        "\n",
        "![Cost Function](https://storage.googleapis.com/activation-function/images/jupyter/mse.png)\n",
        "\n",
        "We will used MSE for this linear regression problem."
      ]
    },
    {
      "cell_type": "code",
      "metadata": {
        "id": "OmRJJkRtrVsu"
      },
      "source": [
        "def mse(Y_hat, Y):\n",
        "    j = np.mean(np.square(np.subtract(Y, Y_hat)))\n",
        "    return j"
      ],
      "execution_count": 7,
      "outputs": []
    },
    {
      "cell_type": "markdown",
      "metadata": {
        "id": "nnfD3HZjrVsu"
      },
      "source": [
        "## Single layer backward propagation step"
      ]
    },
    {
      "cell_type": "markdown",
      "metadata": {
        "id": "-KEcJLZQrVsu"
      },
      "source": [
        "Use backward propagation to calculate the gradient, and use gradient descent to minimize the calculated gradient.\n",
        "\n",
        "$$\\boldsymbol{dW}^{[l]} = \\frac{\\partial L }{\\partial \\boldsymbol{W}^{[l]}} = \\frac{1}{m} \\boldsymbol{dZ}^{[l]} \\boldsymbol{A}^{[l-1] T}$$\n",
        "\n",
        "$$\\boldsymbol{db}^{[l]} = \\frac{\\partial L }{\\partial \\boldsymbol{b}^{[l]}} = \\frac{1}{m} \\sum_{i = 1}^{m} \\boldsymbol{dZ}^{[l](i)}$$\n",
        "\n",
        "$$\\boldsymbol{dA}^{[l-1]} = \\frac{\\partial L }{\\partial \\boldsymbol{A}^{[l-1]}} = \\boldsymbol{W}^{[l] T} \\boldsymbol{dZ}^{[l]}$$\n",
        "\n",
        "$$\\boldsymbol{dZ}^{[l]} = \\boldsymbol{dA}^{[l]} * g'(\\boldsymbol{Z}^{[l]})$$\n",
        "\n"
      ]
    },
    {
      "cell_type": "code",
      "metadata": {
        "id": "Vuuj6BYTrVsu"
      },
      "source": [
        "def single_layer_backward_propagation(dA_curr, W_curr, b_curr, Z_curr, A_prev, activation=\"relu\"):\n",
        "    # Number of examples\n",
        "    m = A_prev.shape[1]\n",
        "    \n",
        "    # Activation function\n",
        "    if activation == \"relu\":\n",
        "        backward_activation_func = relu_backward\n",
        "    elif activation == \"sigmoid\":\n",
        "        backward_activation_func = sigmoid_backward\n",
        "    else:\n",
        "        raise Exception('Non-supported activation function')\n",
        "    \n",
        "    # Calculate the activation function derivative.\n",
        "    dZ_curr = backward_activation_func(dA_curr, Z_curr)\n",
        "    \n",
        "    # Derivative of the matrix W\n",
        "    dW_curr = np.dot(dZ_curr, A_prev.T) / m\n",
        "    # Derivative of the vector b\n",
        "    db_curr = np.sum(dZ_curr, axis=1, keepdims=True) / m\n",
        "    # Derivative of the matrix A_prev\n",
        "    dA_prev = np.dot(W_curr.T, dZ_curr)\n",
        "\n",
        "    return dA_prev, dW_curr, db_curr"
      ],
      "execution_count": 8,
      "outputs": []
    },
    {
      "cell_type": "markdown",
      "metadata": {
        "id": "h0rhocoFrVsu"
      },
      "source": [
        "## Full backward propagation"
      ]
    },
    {
      "cell_type": "markdown",
      "metadata": {
        "id": "SEObnRSQrVsu"
      },
      "source": [
        "$$\\frac{\\partial L }{\\partial \\boldsymbol{\\hat{Y}}} = -(\\frac{\\boldsymbol{Y}}{\\boldsymbol{\\hat{Y}}}- \\frac{1-\\boldsymbol{Y}}{1-\\boldsymbol{\\hat{Y}}})$$"
      ]
    },
    {
      "cell_type": "code",
      "metadata": {
        "id": "rSiBZisArVsu"
      },
      "source": [
        "def full_backward_propagation(Y_hat, Y, memory, params_values, nn_architecture):\n",
        "    grads_values = {}\n",
        "    \n",
        "    # Number of examples\n",
        "    m = Y.shape[1]\n",
        "    # Ensure the same shape of the prediction vector and labels vector.\n",
        "    Y = Y.reshape(Y_hat.shape)\n",
        "    \n",
        "    # Initiate gradient descent algorithm.\n",
        "    dA_prev = - (np.divide(Y, Y_hat) - np.divide(1 - Y, 1 - Y_hat));\n",
        "    \n",
        "    for layer_idx_prev, layer in reversed(list(enumerate(nn_architecture))):\n",
        "        # Number network layers from 1.\n",
        "        layer_idx_curr = layer_idx_prev + 1\n",
        "        # Extract the activation function for the current layer.\n",
        "        activ_function_curr = layer[\"activation\"]\n",
        "        \n",
        "        dA_curr = dA_prev\n",
        "        \n",
        "        A_prev = memory[\"A\" + str(layer_idx_prev)]\n",
        "        Z_curr = memory[\"Z\" + str(layer_idx_curr)]\n",
        "        \n",
        "        W_curr = params_values[\"W\" + str(layer_idx_curr)]\n",
        "        b_curr = params_values[\"b\" + str(layer_idx_curr)]\n",
        "        \n",
        "        dA_prev, dW_curr, db_curr = single_layer_backward_propagation(\n",
        "            dA_curr, W_curr, b_curr, Z_curr, A_prev, activ_function_curr)\n",
        "        \n",
        "        grads_values[\"dW\" + str(layer_idx_curr)] = dW_curr\n",
        "        grads_values[\"db\" + str(layer_idx_curr)] = db_curr\n",
        "    \n",
        "    return grads_values"
      ],
      "execution_count": 9,
      "outputs": []
    },
    {
      "cell_type": "markdown",
      "metadata": {
        "id": "rxgzUMQYrVsu"
      },
      "source": [
        "## Update weights and biases"
      ]
    },
    {
      "cell_type": "markdown",
      "metadata": {
        "id": "fZ4lczdOrVsu"
      },
      "source": [
        "Update the weights and bias of each layer. The learning rate is used to dictate the amount of update to perform."
      ]
    },
    {
      "cell_type": "code",
      "metadata": {
        "id": "Els8CpxurVsu"
      },
      "source": [
        "def update(params_values, grads_values, nn_architecture, learning_rate):\n",
        "    # For each network layer\n",
        "    for layer_idx, layer in enumerate(nn_architecture, 1):\n",
        "        params_values[\"W\" + str(layer_idx)] -= learning_rate * grads_values[\"dW\" + str(layer_idx)]        \n",
        "        params_values[\"b\" + str(layer_idx)] -= learning_rate * grads_values[\"db\" + str(layer_idx)]\n",
        "\n",
        "    return params_values"
      ],
      "execution_count": 10,
      "outputs": []
    },
    {
      "cell_type": "markdown",
      "metadata": {
        "id": "fmi3ljfjrVsu"
      },
      "source": [
        "## Training"
      ]
    },
    {
      "cell_type": "code",
      "metadata": {
        "id": "AVec9vTkrVsu"
      },
      "source": [
        "def model_fit(X, Y, nn_architecture, epochs, learning_rate, verbose=True, callback=None):\n",
        "    # Initialize the neural network.\n",
        "    params_values = init_layers(nn_architecture, 2)\n",
        "    \n",
        "    # Declare lists for storing the history of metrics\n",
        "    # calculated during the learning process.\n",
        "    cost_history = []\n",
        "    accuracy_history = []\n",
        "    \n",
        "    for i in range(epochs):\n",
        "        # Forward propagation\n",
        "        Y_hat, cache = full_forward_propagation(X, params_values, nn_architecture)\n",
        "        \n",
        "        # Calculate metrics.\n",
        "        cost = mse(Y_hat, Y)\n",
        "        cost_history.append(cost)\n",
        "        \n",
        "        # Backpropagation\n",
        "        grads_values = full_backward_propagation(Y_hat, Y, cache, params_values, nn_architecture)\n",
        "        \n",
        "        # Update parameters.\n",
        "        params_values = update(params_values, grads_values, nn_architecture, learning_rate)\n",
        "        \n",
        "        if(verbose):\n",
        "            print(\"Epoch: {} - MSE: {:.5f}\".format(i, cost))\n",
        "        if(callback is not None):\n",
        "            callback(i, params_values)\n",
        "            \n",
        "    return params_values"
      ],
      "execution_count": 11,
      "outputs": []
    },
    {
      "cell_type": "markdown",
      "metadata": {
        "id": "Rb0cxt9nrVsu"
      },
      "source": [
        "## Start the action"
      ]
    },
    {
      "cell_type": "markdown",
      "metadata": {
        "id": "orIhCkKdrVsu"
      },
      "source": [
        "## Create dataset"
      ]
    },
    {
      "cell_type": "code",
      "metadata": {
        "id": "gpj0mm-FrVsu",
        "colab": {
          "base_uri": "https://localhost:8080/"
        },
        "outputId": "d911a776-51eb-432d-b982-8db40fc43599"
      },
      "source": [
        "mu = float(input('Mean: '))\n",
        "sigma = float(input('Std Dev: '))\n",
        "\n",
        "samples = np.random.normal(mu, sigma, 1000000)\n",
        "limited_sampling = []\n",
        "\n",
        "while len(limited_sampling) < 1000000:\n",
        "    # Limit samples between −2σ and +2σ.\n",
        "    sample = np.random.choice(samples)\n",
        "    if sample >= (mu - 2 * sigma) and sample <= (mu + 2 * sigma):\n",
        "        limited_sampling.append(sample)\n",
        "\n",
        "dataset = np.array(limited_sampling)\n",
        "\n",
        "# Compute the histogram of the Gaussian dataset.\n",
        "hist, bin_edges = np.histogram(dataset, bins=1000, density=True)\n",
        "\n",
        "# Return the indices of the bins to which each value in input array belongs.\n",
        "indices = np.digitize(dataset, bin_edges, right=True) - 1\n",
        "\n",
        "X = dataset[:1000]\n",
        "y = hist[indices][:1000]\n",
        "\n",
        "# Split 90% for training and 10% for testing.\n",
        "x_train, x_test = np.split(X, [900])\n",
        "y_train, y_test = np.split(y, [900])\n",
        "\n",
        "# Reshaped the input data to properly fit the neural network.\n",
        "X_train = x_train.reshape(-1, 1)\n",
        "X_test  = x_test.reshape(-1, 1)\n",
        "\n",
        "print(f'X_train.shape: {X_train.shape}')\n",
        "print(f'y_train.shape: {y_train.shape}')"
      ],
      "execution_count": 12,
      "outputs": [
        {
          "output_type": "stream",
          "text": [
            "Mean: 1\n",
            "Std Dev: 2\n",
            "X_train.shape: (900, 1)\n",
            "y_train.shape: (900,)\n"
          ],
          "name": "stdout"
        }
      ]
    },
    {
      "cell_type": "markdown",
      "metadata": {
        "id": "j_yauOYHrVsw"
      },
      "source": [
        "### Train the network and make predictions"
      ]
    },
    {
      "cell_type": "code",
      "metadata": {
        "id": "FYjbMGHarVsw",
        "colab": {
          "base_uri": "https://localhost:8080/",
          "height": 714
        },
        "outputId": "99f69cf2-bfff-40bb-c27a-27048a02f01c"
      },
      "source": [
        "params_values = model_fit(np.transpose(X_train), np.transpose(y_train.reshape((y_train.shape[0], 1))), neural_network, 20, 0.1,  verbose=True)\n",
        "\n",
        "Y_hat_test, _ = full_forward_propagation(np.transpose(X_test), params_values, neural_network)\n",
        "\n",
        "plt.figure(figsize=(6, 6))\n",
        "plt.plot(X_test, y_test, 'o', color='blue', label='Test Set')\n",
        "plt.plot(X_test, np.transpose(np.squeeze(Y_hat_test)), 'o', color='red', label='Y-hat')\n",
        "plt.legend(loc='upper right')\n",
        "plt.show()"
      ],
      "execution_count": 13,
      "outputs": [
        {
          "output_type": "stream",
          "text": [
            "Epoch: 0 - MSE: 0.38148\n",
            "Epoch: 1 - MSE: 0.02231\n",
            "Epoch: 2 - MSE: 0.02112\n",
            "Epoch: 3 - MSE: 0.01962\n",
            "Epoch: 4 - MSE: 0.01783\n",
            "Epoch: 5 - MSE: 0.01589\n",
            "Epoch: 6 - MSE: 0.01434\n",
            "Epoch: 7 - MSE: 0.01407\n",
            "Epoch: 8 - MSE: 0.01455\n",
            "Epoch: 9 - MSE: 0.01467\n",
            "Epoch: 10 - MSE: 0.01454\n",
            "Epoch: 11 - MSE: 0.01436\n",
            "Epoch: 12 - MSE: 0.01415\n",
            "Epoch: 13 - MSE: 0.01397\n",
            "Epoch: 14 - MSE: 0.01378\n",
            "Epoch: 15 - MSE: 0.01358\n",
            "Epoch: 16 - MSE: 0.01338\n",
            "Epoch: 17 - MSE: 0.01319\n",
            "Epoch: 18 - MSE: 0.01299\n",
            "Epoch: 19 - MSE: 0.01280\n"
          ],
          "name": "stdout"
        },
        {
          "output_type": "display_data",
          "data": {
            "image/png": "[encoded data removed]",
            "text/plain": [
              "<Figure size 432x432 with 1 Axes>"
            ]
          },
          "metadata": {
            "tags": [],
            "needs_background": "light"
          }
        }
      ]
    },
    {
      "cell_type": "markdown",
      "metadata": {
        "id": "rRD141iLrVsx"
      },
      "source": [
        "At only 20 epochs, the predictions do not look impressive. I notice that at around 500 epochs, the predictions start to look good. Let's run it again for 500 epochs."
      ]
    },
    {
      "cell_type": "code",
      "metadata": {
        "id": "yy1-214NrVsx",
        "colab": {
          "base_uri": "https://localhost:8080/",
          "height": 374
        },
        "outputId": "bb12f4a2-10c4-425e-832b-fba555b1fed8"
      },
      "source": [
        "params_values = model_fit(np.transpose(X_train), np.transpose(y_train.reshape((y_train.shape[0], 1))), neural_network, 500, 0.1,  verbose=False)\n",
        "\n",
        "Y_hat_test, _ = full_forward_propagation(np.transpose(X_test), params_values, neural_network)\n",
        "\n",
        "plt.figure(figsize=(6, 6))\n",
        "plt.plot(X_test, y_test, 'o', color='blue', label='Test Set')\n",
        "plt.plot(X_test, np.transpose(np.squeeze(Y_hat_test)), 'o', color='red', label='Y-hat')\n",
        "plt.legend(loc='upper right')\n",
        "plt.show()"
      ],
      "execution_count": 14,
      "outputs": [
        {
          "output_type": "display_data",
          "data": {
            "image/png": "[encoded data removed]",
            "text/plain": [
              "<Figure size 432x432 with 1 Axes>"
            ]
          },
          "metadata": {
            "tags": [],
            "needs_background": "light"
          }
        }
      ]
    },
    {
      "cell_type": "markdown",
      "metadata": {
        "id": "pIJyIxmCwKVG"
      },
      "source": [
        "Big difference in generalization power compared to the one ran on only 20 epochs."
      ]
    },
    {
      "cell_type": "markdown",
      "metadata": {
        "id": "AKRc4eaFrVsx"
      },
      "source": [
        "### Trying the same neural network in Keras just for comparison"
      ]
    },
    {
      "cell_type": "code",
      "metadata": {
        "id": "vYgjpFFxrVsx",
        "colab": {
          "base_uri": "https://localhost:8080/",
          "height": 1000
        },
        "outputId": "6459df4f-fbb6-4528-c089-dace953536c9"
      },
      "source": [
        "from tensorflow.keras.models import Sequential\n",
        "from tensorflow.keras.layers import Dense\n",
        "from tensorflow.keras.optimizers import SGD\n",
        "\n",
        "model = Sequential()\n",
        "model.add(Dense(64, input_dim=1,activation='relu'))\n",
        "model.add(Dense(64, activation='relu'))\n",
        "model.add(Dense(64, activation='relu'))\n",
        "model.add(Dense(1, activation='sigmoid'))\n",
        "\n",
        "model.compile(loss='mse', optimizer=SGD(learning_rate=0.1), metrics=['mae'])\n",
        "\n",
        "history = model.fit(X_train, y_train, epochs=20, verbose=1)\n",
        "\n",
        "Y_hat_test_keras = model.predict(X_test)\n",
        "\n",
        "plt.figure(figsize=(6, 6))\n",
        "plt.plot(X_test, y_test, 'o', color='blue', label='Test Set')\n",
        "plt.plot(X_test, np.transpose(np.squeeze(Y_hat_test_keras)), 'o', color='red', label='Y-hat')\n",
        "plt.legend(loc='upper right')\n",
        "plt.show()"
      ],
      "execution_count": 15,
      "outputs": [
        {
          "output_type": "stream",
          "text": [
            "Epoch 1/20\n",
            "29/29 [==============================] - 0s 1ms/step - loss: 0.0395 - mae: 0.1610\n",
            "Epoch 2/20\n",
            "29/29 [==============================] - 0s 950us/step - loss: 0.0121 - mae: 0.0861\n",
            "Epoch 3/20\n",
            "29/29 [==============================] - 0s 1ms/step - loss: 0.0064 - mae: 0.0684\n",
            "Epoch 4/20\n",
            "29/29 [==============================] - 0s 1ms/step - loss: 0.0041 - mae: 0.0564\n",
            "Epoch 5/20\n",
            "29/29 [==============================] - 0s 1ms/step - loss: 0.0028 - mae: 0.0470\n",
            "Epoch 6/20\n",
            "29/29 [==============================] - 0s 1ms/step - loss: 0.0020 - mae: 0.0393\n",
            "Epoch 7/20\n",
            "29/29 [==============================] - 0s 1ms/step - loss: 0.0015 - mae: 0.0337\n",
            "Epoch 8/20\n",
            "29/29 [==============================] - 0s 1ms/step - loss: 0.0011 - mae: 0.0292\n",
            "Epoch 9/20\n",
            "29/29 [==============================] - 0s 1ms/step - loss: 8.7934e-04 - mae: 0.0259\n",
            "Epoch 10/20\n",
            "29/29 [==============================] - 0s 1ms/step - loss: 7.2949e-04 - mae: 0.0235\n",
            "Epoch 11/20\n",
            "29/29 [==============================] - 0s 1ms/step - loss: 6.3218e-04 - mae: 0.0216\n",
            "Epoch 12/20\n",
            "29/29 [==============================] - 0s 1ms/step - loss: 5.6697e-04 - mae: 0.0202\n",
            "Epoch 13/20\n",
            "29/29 [==============================] - 0s 1ms/step - loss: 5.2297e-04 - mae: 0.0191\n",
            "Epoch 14/20\n",
            "29/29 [==============================] - 0s 1ms/step - loss: 4.9419e-04 - mae: 0.0182\n",
            "Epoch 15/20\n",
            "29/29 [==============================] - 0s 1ms/step - loss: 4.7264e-04 - mae: 0.0177\n",
            "Epoch 16/20\n",
            "29/29 [==============================] - 0s 1ms/step - loss: 4.5706e-04 - mae: 0.0173\n",
            "Epoch 17/20\n",
            "29/29 [==============================] - 0s 1ms/step - loss: 4.4265e-04 - mae: 0.0169\n",
            "Epoch 18/20\n",
            "29/29 [==============================] - 0s 1ms/step - loss: 4.3103e-04 - mae: 0.0166\n",
            "Epoch 19/20\n",
            "29/29 [==============================] - 0s 1ms/step - loss: 4.2298e-04 - mae: 0.0164\n",
            "Epoch 20/20\n",
            "29/29 [==============================] - 0s 1ms/step - loss: 4.1677e-04 - mae: 0.0163\n"
          ],
          "name": "stdout"
        },
        {
          "output_type": "display_data",
          "data": {
            "image/png": "[encoded data removed]",
            "text/plain": [
              "<Figure size 432x432 with 1 Axes>"
            ]
          },
          "metadata": {
            "tags": [],
            "needs_background": "light"
          }
        }
      ]
    },
    {
      "cell_type": "markdown",
      "metadata": {
        "id": "5s0ZilgYrVsx"
      },
      "source": [
        "At only 20 epochs, the predictions already look great.\n",
        "\n",
        "This may mean that my Numpy neural network takes a long time to learn. I'm not happy about this. It shouldn't be this slow to learn. Future improvement includes looking into why the generalization ability of my Numpy neural net could not learn enough to be a decent predictor with 20 epochs."
      ]
    }
  ]
}